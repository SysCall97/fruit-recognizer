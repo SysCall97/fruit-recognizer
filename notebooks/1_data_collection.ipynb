{
  "nbformat": 4,
  "nbformat_minor": 0,
  "metadata": {
    "colab": {
      "provenance": []
    },
    "kernelspec": {
      "name": "python3",
      "display_name": "Python 3"
    },
    "language_info": {
      "name": "python"
    }
  },
  "cells": [
    {
      "cell_type": "markdown",
      "source": [
        "**Objective:** The objective of this notebook is to download images of some fruit categories and save them into the google drive. For this we're going to use ``search_images_ddg``, which will search the images from DuckDuckGo and give us the URLs. Then using ``download_url`` we're going to download the images and save them in the drive."
      ],
      "metadata": {
        "id": "XcAAAXUOtIpS"
      }
    },
    {
      "cell_type": "markdown",
      "source": [
        "# **Set up:**"
      ],
      "metadata": {
        "id": "tLjo3vNFsoZL"
      }
    },
    {
      "cell_type": "code",
      "execution_count": 4,
      "metadata": {
        "id": "oWKQg0G-sTyO"
      },
      "outputs": [],
      "source": [
        "%reload_ext autoreload\n",
        "%autoreload 2\n",
        "%matplotlib inline\n",
        "bs = 16\n",
        "version = 1"
      ]
    },
    {
      "cell_type": "code",
      "source": [
        "!pip install -Uqq fastai fastbook nbdev"
      ],
      "metadata": {
        "id": "Nc0tuSYEs2JW"
      },
      "execution_count": 5,
      "outputs": []
    },
    {
      "cell_type": "code",
      "source": [
        "from fastai import *\n",
        "from fastai.vision.all import *\n",
        "from fastai.vision.widgets import *\n",
        "from fastbook import *"
      ],
      "metadata": {
        "id": "jfG_Q2HRs5dl"
      },
      "execution_count": 22,
      "outputs": []
    },
    {
      "cell_type": "code",
      "source": [
        "from google.colab import drive\n",
        "drive.mount('/content/drive')"
      ],
      "metadata": {
        "colab": {
          "base_uri": "https://localhost:8080/"
        },
        "id": "Xf9ppjrBuHxu",
        "outputId": "d44a1f8e-453b-440e-961b-26f9eaf63243"
      },
      "execution_count": 7,
      "outputs": [
        {
          "output_type": "stream",
          "name": "stdout",
          "text": [
            "Drive already mounted at /content/drive; to attempt to forcibly remount, call drive.mount(\"/content/drive\", force_remount=True).\n"
          ]
        }
      ]
    },
    {
      "cell_type": "code",
      "source": [
        "%cd /content/drive/My Drive/image_processing/fruit_recognizer"
      ],
      "metadata": {
        "colab": {
          "base_uri": "https://localhost:8080/"
        },
        "id": "Z8nefpvkuN41",
        "outputId": "30373f53-281e-4362-a751-08810439bec2"
      },
      "execution_count": 8,
      "outputs": [
        {
          "output_type": "stream",
          "name": "stdout",
          "text": [
            "/content/drive/My Drive/image_processing/fruit_recognizer\n"
          ]
        }
      ]
    },
    {
      "cell_type": "markdown",
      "source": [
        "# **Get URLs for desired labels:**"
      ],
      "metadata": {
        "id": "vXbGYJgwuzar"
      }
    },
    {
      "cell_type": "code",
      "source": [
        "labels = [\n",
        "    \"Mango\",\n",
        "    \"Jackfruit\",\n",
        "    \"Litchi\",\n",
        "    \"Guava\",\n",
        "    \"Coconut\",\n",
        "    \"Banana\",\n",
        "    \"Papaya\",\n",
        "    \"Starfruit\",\n",
        "    \"Watermelon\",\n",
        "    \"Wood Apple\",\n",
        "    \"Hog Plum\"\n",
        "]"
      ],
      "metadata": {
        "id": "K4O2uAwwu_iV"
      },
      "execution_count": 14,
      "outputs": []
    },
    {
      "cell_type": "code",
      "source": [
        "suffix = \" fruit in the tree\"\n",
        "label = labels[0] + suffix\n",
        "image_info_test = search_images_ddg(label, max_images=5)\n",
        "f'Number of images => {len(image_info_test)} ----------------- URL=> {image_info_test}'"
      ],
      "metadata": {
        "colab": {
          "base_uri": "https://localhost:8080/",
          "height": 70
        },
        "id": "9hhIy2DMwUpJ",
        "outputId": "c83cc799-3d3f-4af2-f07a-b9020ac4b9e3"
      },
      "execution_count": 21,
      "outputs": [
        {
          "output_type": "execute_result",
          "data": {
            "text/plain": [
              "\"Number of images => 5 ----------------- URL=> ['http://treepicturesonline.com/mangotreefruit.jpg', 'https://www.worldatlas.com/r/w1200/upload/89/3b/aa/mango-tree-321075-640.jpg', 'https://www.thespruce.com/thmb/MRITIIYa_5vaBB1fwPHnD45Lwc4=/4338x2893/filters:no_upscale():max_bytes(150000):strip_icc()/grow-mango-seeds-1902625-05-73d31c720a0947cea796163d4d113869.jpg', 'https://foodgardening.mequoda.com/wp-content/uploads/2021/06/Ripe-mango-fruit.jpg', 'https://t3.ftcdn.net/jpg/05/61/96/06/360_F_561960690_uCMNRrqahIsdrOeEG7Lx5DzLPCof6GNe.jpg']\""
            ],
            "application/vnd.google.colaboratory.intrinsic+json": {
              "type": "string"
            }
          },
          "metadata": {},
          "execution_count": 21
        }
      ]
    },
    {
      "cell_type": "markdown",
      "source": [
        "# **Download images from the internet using URLs:**"
      ],
      "metadata": {
        "id": "WKjbndJryVNI"
      }
    },
    {
      "cell_type": "code",
      "source": [
        "data_path = 'data'\n",
        "suffix = \" fruit in the tree\"\n",
        "if not os.path.exists(data_path):\n",
        "    os.mkdir(data_path)\n",
        "\n",
        "for _label in labels:\n",
        "    dest = f'{data_path}/{_label}'\n",
        "    if not os.path.exists(dest):\n",
        "        os.mkdir(dest)\n",
        "\n",
        "    try:\n",
        "      label = _label + suffix\n",
        "      fruit_image_urls = search_images_ddg(label, max_images=100)\n",
        "      download_images(dest, urls=fruit_image_urls)\n",
        "    except:\n",
        "      continue"
      ],
      "metadata": {
        "id": "A0qWeqNvwj34"
      },
      "execution_count": 18,
      "outputs": []
    },
    {
      "cell_type": "code",
      "source": [],
      "metadata": {
        "id": "ereGtmhxyolZ"
      },
      "execution_count": null,
      "outputs": []
    }
  ]
}